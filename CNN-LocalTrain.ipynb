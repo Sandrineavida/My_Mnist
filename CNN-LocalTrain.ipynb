{
 "cells": [
  {
   "cell_type": "code",
   "execution_count": 1,
   "metadata": {},
   "outputs": [],
   "source": [
    "from tensorflow import keras\n",
    "from keras.datasets import mnist\n",
    "from keras.models import Sequential\n",
    "from keras.layers import Dense, Dropout\n",
    "from keras.optimizers import RMSprop\n",
    "from keras.layers import Conv2D, BatchNormalization, Activation"
   ]
  },
  {
   "cell_type": "code",
   "execution_count": 2,
   "metadata": {},
   "outputs": [],
   "source": [
    "batch_size = 128            #一批处理128个手写图片\n",
    "num_classes = 10         #  10分类问题\n",
    "epochs = 20                   #  迭代20次"
   ]
  },
  {
   "cell_type": "code",
   "execution_count": 3,
   "metadata": {},
   "outputs": [],
   "source": [
    "# the data, split between train and test sets\n",
    "(x_train, y_train), (x_test, y_test) = mnist.load_data()"
   ]
  },
  {
   "cell_type": "code",
   "execution_count": 4,
   "metadata": {},
   "outputs": [
    {
     "name": "stdout",
     "output_type": "stream",
     "text": [
      "(60000, 28, 28)\n",
      "(10000, 28, 28)\n"
     ]
    }
   ],
   "source": [
    "print(x_train.shape)\n",
    "print(x_test.shape)"
   ]
  },
  {
   "cell_type": "code",
   "execution_count": 6,
   "metadata": {},
   "outputs": [],
   "source": [
    "x_train = x_train.reshape(60000, 784)  #矩阵变换成28*28=784列作为输入\n",
    "x_test = x_test.reshape(10000, 784) \n",
    "x_train = x_train.astype('float32')    #兼顾内存中的存储量，用32bit\n",
    "x_test = x_test.astype('float32')\n",
    "x_train /= 255                         #像素归一化[0-1] ，减少模型不稳定性\n",
    "x_test /= 255\n"
   ]
  },
  {
   "cell_type": "code",
   "execution_count": 8,
   "metadata": {},
   "outputs": [
    {
     "name": "stdout",
     "output_type": "stream",
     "text": [
      "60000 train samples\n",
      "10000 test samples\n",
      "(60000, 784)\n",
      "(10000, 784)\n"
     ]
    }
   ],
   "source": [
    "print(x_train.shape[0], 'train samples')\n",
    "print(x_test.shape[0], 'test samples')\n",
    "print(x_train.shape)\n",
    "print(x_test.shape)"
   ]
  },
  {
   "cell_type": "code",
   "execution_count": 9,
   "metadata": {},
   "outputs": [],
   "source": [
    "y_train = keras.utils.to_categorical(y_train, num_classes)             #标签\n",
    "y_test = keras.utils.to_categorical(y_test, num_classes)"
   ]
  },
  {
   "cell_type": "code",
   "execution_count": 15,
   "metadata": {},
   "outputs": [],
   "source": [
    "#建模，用Sequential类\n",
    "model = Sequential()\n",
    "model.add(Dense(512, activation='relu', input_shape=(784,))) #全连接网络，神经元节点数512，输入层\n",
    "model.add(Dropout(0.2))     #让20%神经元随机失活，每一个神经元都有机会得到更高效的学习，网络更加健壮，减小过拟合。 \n",
    "\n",
    "model.add(Dense(512, activation='relu'))        #全连接层，512个神经元，隐藏层2  \n",
    "model.add(Dropout(0.2))                         \n",
    "\n",
    "model.add(Dense(num_classes, activation='softmax'))      #输出层为10路，用softmax概率分布，概率最大的是\n"
   ]
  },
  {
   "cell_type": "code",
   "execution_count": 17,
   "metadata": {},
   "outputs": [],
   "source": [
    "#compile配置训练方法\n",
    "model.compile(loss='categorical_crossentropy',                     \n",
    "              optimizer=RMSprop(),\n",
    "              metrics=['accuracy'])#多类别交叉熵，\n"
   ]
  },
  {
   "cell_type": "code",
   "execution_count": 18,
   "metadata": {},
   "outputs": [
    {
     "name": "stdout",
     "output_type": "stream",
     "text": [
      "Epoch 1/20\n",
      "469/469 [==============================] - 5s 9ms/step - loss: 0.2459 - accuracy: 0.9238 - val_loss: 0.1012 - val_accuracy: 0.9694\n",
      "Epoch 2/20\n",
      "469/469 [==============================] - 4s 9ms/step - loss: 0.1013 - accuracy: 0.9696 - val_loss: 0.0841 - val_accuracy: 0.9754\n",
      "Epoch 3/20\n",
      "469/469 [==============================] - 4s 9ms/step - loss: 0.0747 - accuracy: 0.9775 - val_loss: 0.0773 - val_accuracy: 0.9762\n",
      "Epoch 4/20\n",
      "469/469 [==============================] - 4s 9ms/step - loss: 0.0607 - accuracy: 0.9816 - val_loss: 0.0713 - val_accuracy: 0.9800\n",
      "Epoch 5/20\n",
      "469/469 [==============================] - 4s 9ms/step - loss: 0.0504 - accuracy: 0.9846 - val_loss: 0.0743 - val_accuracy: 0.9800\n",
      "Epoch 6/20\n",
      "469/469 [==============================] - 5s 10ms/step - loss: 0.0422 - accuracy: 0.9869 - val_loss: 0.0701 - val_accuracy: 0.9820\n",
      "Epoch 7/20\n",
      "469/469 [==============================] - 5s 10ms/step - loss: 0.0382 - accuracy: 0.9887 - val_loss: 0.0849 - val_accuracy: 0.9808\n",
      "Epoch 8/20\n",
      "469/469 [==============================] - 5s 10ms/step - loss: 0.0338 - accuracy: 0.9898 - val_loss: 0.0755 - val_accuracy: 0.9837\n",
      "Epoch 9/20\n",
      "469/469 [==============================] - 4s 10ms/step - loss: 0.0312 - accuracy: 0.9910 - val_loss: 0.0873 - val_accuracy: 0.9823\n",
      "Epoch 10/20\n",
      "469/469 [==============================] - 4s 9ms/step - loss: 0.0293 - accuracy: 0.9917 - val_loss: 0.0930 - val_accuracy: 0.9825\n",
      "Epoch 11/20\n",
      "469/469 [==============================] - 4s 9ms/step - loss: 0.0249 - accuracy: 0.9925 - val_loss: 0.0925 - val_accuracy: 0.9839\n",
      "Epoch 12/20\n",
      "469/469 [==============================] - 4s 9ms/step - loss: 0.0239 - accuracy: 0.9929 - val_loss: 0.1007 - val_accuracy: 0.9833\n",
      "Epoch 13/20\n",
      "469/469 [==============================] - 4s 10ms/step - loss: 0.0213 - accuracy: 0.9938 - val_loss: 0.1034 - val_accuracy: 0.9826\n",
      "Epoch 14/20\n",
      "469/469 [==============================] - 4s 9ms/step - loss: 0.0223 - accuracy: 0.9943 - val_loss: 0.1041 - val_accuracy: 0.9837\n",
      "Epoch 15/20\n",
      "469/469 [==============================] - 5s 10ms/step - loss: 0.0194 - accuracy: 0.9946 - val_loss: 0.1028 - val_accuracy: 0.9838\n",
      "Epoch 16/20\n",
      "469/469 [==============================] - 4s 10ms/step - loss: 0.0201 - accuracy: 0.9944 - val_loss: 0.1233 - val_accuracy: 0.9812\n",
      "Epoch 17/20\n",
      "469/469 [==============================] - 5s 10ms/step - loss: 0.0182 - accuracy: 0.9951 - val_loss: 0.1232 - val_accuracy: 0.9823\n",
      "Epoch 18/20\n",
      "469/469 [==============================] - 5s 10ms/step - loss: 0.0177 - accuracy: 0.9952 - val_loss: 0.1187 - val_accuracy: 0.9840\n",
      "Epoch 19/20\n",
      "469/469 [==============================] - 4s 9ms/step - loss: 0.0162 - accuracy: 0.9958 - val_loss: 0.1328 - val_accuracy: 0.9826\n",
      "Epoch 20/20\n",
      "469/469 [==============================] - 4s 9ms/step - loss: 0.0162 - accuracy: 0.9955 - val_loss: 0.1341 - val_accuracy: 0.9835\n",
      "Test loss: 0.13412949442863464\n"
     ]
    }
   ],
   "source": [
    "#fit执行训练过程；\n",
    "history = model.fit(x_train, y_train,\n",
    "                    batch_size=batch_size,\n",
    "                    epochs=epochs,\n",
    "                    verbose=1,\n",
    "                    validation_data=(x_test, y_test))\n",
    "score = model.evaluate(x_test, y_test, verbose=0)"
   ]
  },
  {
   "cell_type": "code",
   "execution_count": 19,
   "metadata": {},
   "outputs": [
    {
     "name": "stdout",
     "output_type": "stream",
     "text": [
      "Test loss: 0.13412949442863464\n",
      "Test accuracy: 0.9835000038146973\n"
     ]
    }
   ],
   "source": [
    "print('Test loss:', score[0])\n",
    "print('Test accuracy:', score[1])\n"
   ]
  },
  {
   "cell_type": "code",
   "execution_count": 20,
   "metadata": {},
   "outputs": [
    {
     "name": "stdout",
     "output_type": "stream",
     "text": [
      "Model: \"sequential_2\"\n",
      "_________________________________________________________________\n",
      " Layer (type)                Output Shape              Param #   \n",
      "=================================================================\n",
      " dense_6 (Dense)             (None, 512)               401920    \n",
      "                                                                 \n",
      " dropout_4 (Dropout)         (None, 512)               0         \n",
      "                                                                 \n",
      " dense_7 (Dense)             (None, 512)               262656    \n",
      "                                                                 \n",
      " dropout_5 (Dropout)         (None, 512)               0         \n",
      "                                                                 \n",
      " dense_8 (Dense)             (None, 10)                5130      \n",
      "                                                                 \n",
      "=================================================================\n",
      "Total params: 669,706\n",
      "Trainable params: 669,706\n",
      "Non-trainable params: 0\n",
      "_________________________________________________________________\n",
      "layer nums: 5\n",
      "You must install pydot (`pip install pydot`) and install graphviz (see instructions at https://graphviz.gitlab.io/download/) for plot_model/model_to_dot to work.\n"
     ]
    }
   ],
   "source": [
    "#summary打印网格结构和参数统计\n",
    "model.summary()\n",
    "from tensorflow.keras.utils import plot_model\n",
    "print(\"layer nums:\", len(model.layers))\n",
    "plot_model(model, to_file='MNIST_MLP.png', show_shapes=True, show_layer_names=False)\n"
   ]
  },
  {
   "cell_type": "code",
   "execution_count": 21,
   "metadata": {},
   "outputs": [
    {
     "data": {
      "text/plain": [
       "[<matplotlib.lines.Line2D at 0x185fbae2520>]"
      ]
     },
     "execution_count": 21,
     "metadata": {},
     "output_type": "execute_result"
    },
    {
     "data": {
      "image/png": "[encoded data removed]",
      "text/plain": [
       "<Figure size 432x288 with 1 Axes>"
      ]
     },
     "metadata": {
      "needs_background": "light"
     },
     "output_type": "display_data"
    }
   ],
   "source": [
    "import matplotlib.pyplot as plt\n",
    "plt.plot(history.history['loss'])\n",
    "plt.plot(history.history['val_loss'])"
   ]
  },
  {
   "cell_type": "code",
   "execution_count": 22,
   "metadata": {},
   "outputs": [
    {
     "data": {
      "text/plain": [
       "[<matplotlib.lines.Line2D at 0x185fd412850>]"
      ]
     },
     "execution_count": 22,
     "metadata": {},
     "output_type": "execute_result"
    },
    {
     "data": {
      "image/png": "[encoded data removed]",
      "text/plain": [
       "<Figure size 432x288 with 1 Axes>"
      ]
     },
     "metadata": {
      "needs_background": "light"
     },
     "output_type": "display_data"
    }
   ],
   "source": [
    "plt.plot(history.history['accuracy'])\n",
    "plt.plot(history.history['val_accuracy'])"
   ]
  },
  {
   "cell_type": "code",
   "execution_count": 25,
   "metadata": {},
   "outputs": [
    {
     "name": "stdout",
     "output_type": "stream",
     "text": [
      "1/1 [==============================] - 0s 68ms/step\n"
     ]
    },
    {
     "data": {
      "image/png": "[encoded data removed]",
      "text/plain": [
       "<Figure size 432x288 with 1 Axes>"
      ]
     },
     "metadata": {
      "needs_background": "light"
     },
     "output_type": "display_data"
    }
   ],
   "source": [
    "import numpy as np\n",
    "from tensorflow.keras.preprocessing import image\n",
    "\n",
    "img = image.load_img(path=\"8.png\", color_mode= 'grayscale', target_size=(28, 28))\n",
    "img = image.img_to_array(img)\n",
    "plt.imshow(image.array_to_img(img), cmap=\"gray\")\n",
    "img = img.astype('float')/255\n",
    "test_img = img.reshape((1, 784))\n",
    "#img_class = model.predict_classes(test_img)\n",
    "img_class = np.argmax(model.predict(test_img), axis = 1)\n",
    "prediction = img_class[0]"
   ]
  },
  {
   "cell_type": "code",
   "execution_count": 26,
   "metadata": {},
   "outputs": [
    {
     "data": {
      "text/plain": [
       "8"
      ]
     },
     "execution_count": 26,
     "metadata": {},
     "output_type": "execute_result"
    }
   ],
   "source": [
    "prediction"
   ]
  },
  {
   "cell_type": "code",
   "execution_count": 28,
   "metadata": {},
   "outputs": [
    {
     "name": "stdout",
     "output_type": "stream",
     "text": [
      "313/313 [==============================] - 0s 1ms/step\n"
     ]
    },
    {
     "data": {
      "text/plain": [
       "0.9835"
      ]
     },
     "execution_count": 28,
     "metadata": {},
     "output_type": "execute_result"
    }
   ],
   "source": [
    "from sklearn.metrics import accuracy_score,confusion_matrix,classification_report\n",
    "\n",
    "y_pred = model.predict(x_test)\n",
    "y_pred = np.argmax(y_pred,axis=1)\n",
    "\n",
    "y_test = np.argmax(y_test,axis=1)\n",
    "\n",
    "accuracy_score(y_pred,y_test)"
   ]
  },
  {
   "cell_type": "code",
   "execution_count": 29,
   "metadata": {},
   "outputs": [
    {
     "data": {
      "text/plain": [
       "array([[ 971,    0,    2,    0,    0,    2,    3,    1,    1,    2],\n",
       "       [   2, 1130,    4,    0,    0,    0,    2,    2,    1,    4],\n",
       "       [   0,    1, 1006,    2,    1,    0,    0,    4,    2,    0],\n",
       "       [   0,    1,    2,  987,    0,    5,    1,    1,    2,    2],\n",
       "       [   1,    0,    3,    0,  968,    1,    2,    0,    1,    8],\n",
       "       [   0,    0,    0,    5,    0,  875,    2,    0,    1,    4],\n",
       "       [   2,    2,    1,    0,    4,    3,  948,    0,    0,    0],\n",
       "       [   2,    0,    6,    9,    1,    1,    0, 1010,    4,    2],\n",
       "       [   1,    1,    7,    5,    0,    4,    0,    3,  957,    4],\n",
       "       [   1,    0,    1,    2,    8,    1,    0,    7,    5,  983]],\n",
       "      dtype=int64)"
      ]
     },
     "execution_count": 29,
     "metadata": {},
     "output_type": "execute_result"
    }
   ],
   "source": [
    "confusion_matrix(y_pred,y_test)"
   ]
  },
  {
   "cell_type": "code",
   "execution_count": 30,
   "metadata": {},
   "outputs": [
    {
     "name": "stdout",
     "output_type": "stream",
     "text": [
      "              precision    recall  f1-score   support\n",
      "\n",
      "           0       0.99      0.99      0.99       982\n",
      "           1       1.00      0.99      0.99      1145\n",
      "           2       0.97      0.99      0.98      1016\n",
      "           3       0.98      0.99      0.98      1001\n",
      "           4       0.99      0.98      0.98       984\n",
      "           5       0.98      0.99      0.98       887\n",
      "           6       0.99      0.99      0.99       960\n",
      "           7       0.98      0.98      0.98      1035\n",
      "           8       0.98      0.97      0.98       982\n",
      "           9       0.97      0.98      0.97      1008\n",
      "\n",
      "    accuracy                           0.98     10000\n",
      "   macro avg       0.98      0.98      0.98     10000\n",
      "weighted avg       0.98      0.98      0.98     10000\n",
      "\n"
     ]
    }
   ],
   "source": [
    "print(classification_report(y_pred,y_test))"
   ]
  },
  {
   "cell_type": "code",
   "execution_count": 31,
   "metadata": {},
   "outputs": [
    {
     "name": "stdout",
     "output_type": "stream",
     "text": [
      "              precision    recall  f1-score   support\n",
      "\n",
      "           0       0.99      0.99      0.99       982\n",
      "           1       1.00      0.99      0.99      1145\n",
      "           2       0.97      0.99      0.98      1016\n",
      "           3       0.98      0.99      0.98      1001\n",
      "           4       0.99      0.98      0.98       984\n",
      "           5       0.98      0.99      0.98       887\n",
      "           6       0.99      0.99      0.99       960\n",
      "           7       0.98      0.98      0.98      1035\n",
      "           8       0.98      0.97      0.98       982\n",
      "           9       0.97      0.98      0.97      1008\n",
      "\n",
      "    accuracy                           0.98     10000\n",
      "   macro avg       0.98      0.98      0.98     10000\n",
      "weighted avg       0.98      0.98      0.98     10000\n",
      "\n"
     ]
    }
   ],
   "source": [
    "print(classification_report(y_pred,y_test))"
   ]
  },
  {
   "cell_type": "code",
   "execution_count": 32,
   "metadata": {},
   "outputs": [],
   "source": [
    "model.save(\"my_mnist.hdf5\")"
   ]
  },
  {
   "cell_type": "code",
   "execution_count": null,
   "metadata": {},
   "outputs": [],
   "source": []
  },
  {
   "cell_type": "code",
   "execution_count": null,
   "metadata": {},
   "outputs": [],
   "source": []
  },
  {
   "cell_type": "code",
   "execution_count": null,
   "metadata": {},
   "outputs": [],
   "source": []
  },
  {
   "cell_type": "code",
   "execution_count": null,
   "metadata": {},
   "outputs": [],
   "source": []
  },
  {
   "cell_type": "code",
   "execution_count": null,
   "metadata": {},
   "outputs": [],
   "source": []
  },
  {
   "cell_type": "code",
   "execution_count": 1,
   "metadata": {},
   "outputs": [
    {
     "name": "stdout",
     "output_type": "stream",
     "text": [
      "(60000, 28, 28)\n",
      "(10000, 28, 28)\n"
     ]
    }
   ],
   "source": [
    "from tensorflow import keras\n",
    "\n",
    "(x_train, y_train), (x_test, y_test) = keras.datasets.mnist.load_data()\n",
    "print(x_train.shape)\n",
    "print(x_test.shape)"
   ]
  },
  {
   "cell_type": "code",
   "execution_count": 2,
   "metadata": {},
   "outputs": [],
   "source": [
    "def visualize_input(img, ax):\n",
    "    ax.imshow(img, cmap='gray')\n",
    "    width, height = img.shape\n",
    "    thresh = img.max()/2.5\n",
    "    for x in range(width):\n",
    "        for y in range(height):\n",
    "            ax.annotate(str(round(img[x][y],2)), xy=(y,x),\n",
    "                        horizontalalignment='center',\n",
    "                        verticalalignment='center',\n",
    "                        color='white' if img[x][y]<thresh else 'black')"
   ]
  },
  {
   "cell_type": "code",
   "execution_count": 3,
   "metadata": {},
   "outputs": [
    {
     "data": {
      "image/png": "[encoded data removed]",
      "text/plain": [
       "<Figure size 720x720 with 1 Axes>"
      ]
     },
     "metadata": {
      "needs_background": "light"
     },
     "output_type": "display_data"
    }
   ],
   "source": [
    "import matplotlib.pyplot as plt\n",
    "fig = plt.figure(figsize = (10,10)) \n",
    "ax = fig.add_subplot(111)\n",
    "visualize_input(x_train[0], ax)"
   ]
  },
  {
   "cell_type": "code",
   "execution_count": 4,
   "metadata": {},
   "outputs": [
    {
     "data": {
      "text/plain": [
       "Text(0.5, 1.0, '[2]')"
      ]
     },
     "execution_count": 4,
     "metadata": {},
     "output_type": "execute_result"
    },
    {
     "data": {
      "image/png": "[encoded data removed]",
      "text/plain": [
       "<Figure size 432x288 with 1 Axes>"
      ]
     },
     "metadata": {
      "needs_background": "light"
     },
     "output_type": "display_data"
    }
   ],
   "source": [
    "import random\n",
    "import matplotlib.pyplot as plt\n",
    "i = random.randint(0,60000)\n",
    "plt.imshow(x_train[i],cmap='gray') # Color map\n",
    "plt.title([y_train[i]])"
   ]
  },
  {
   "cell_type": "code",
   "execution_count": 5,
   "metadata": {},
   "outputs": [
    {
     "data": {
      "text/plain": [
       "(array([0, 1, 2, 3, 4, 5, 6, 7, 8, 9], dtype=uint8),\n",
       " array([5923, 6742, 5958, 6131, 5842, 5421, 5918, 6265, 5851, 5949],\n",
       "       dtype=int64))"
      ]
     },
     "execution_count": 5,
     "metadata": {},
     "output_type": "execute_result"
    }
   ],
   "source": [
    "# How many images are there in every digit?\n",
    "import numpy as np\n",
    "np.unique(y_train,return_counts=True)"
   ]
  },
  {
   "cell_type": "code",
   "execution_count": 6,
   "metadata": {},
   "outputs": [
    {
     "data": {
      "text/plain": [
       "(array([0, 1, 2, 3, 4, 5, 6, 7, 8, 9], dtype=uint8),\n",
       " array([ 980, 1135, 1032, 1010,  982,  892,  958, 1028,  974, 1009],\n",
       "       dtype=int64))"
      ]
     },
     "execution_count": 6,
     "metadata": {},
     "output_type": "execute_result"
    }
   ],
   "source": [
    "np.unique(y_test,return_counts=True)"
   ]
  },
  {
   "cell_type": "code",
   "execution_count": 7,
   "metadata": {},
   "outputs": [
    {
     "name": "stdout",
     "output_type": "stream",
     "text": [
      "1.0\n",
      "0.0\n"
     ]
    }
   ],
   "source": [
    "# Normalization : Scaling down the value to a specific range(0-1)\n",
    "x_train=x_train/255\n",
    "x_test = x_test/255\n",
    "\n",
    "# AFter Normalization\n",
    "print(x_train.max())\n",
    "print(x_train.min())"
   ]
  },
  {
   "cell_type": "code",
   "execution_count": 9,
   "metadata": {},
   "outputs": [
    {
     "name": "stdout",
     "output_type": "stream",
     "text": [
      "Epoch 1/10\n",
      "1500/1500 [==============================] - 13s 8ms/step - loss: 0.2307 - accuracy: 0.9329 - val_loss: 0.1255 - val_accuracy: 0.9629\n",
      "Epoch 2/10\n",
      "1500/1500 [==============================] - 11s 7ms/step - loss: 0.0933 - accuracy: 0.9722 - val_loss: 0.0885 - val_accuracy: 0.9722\n",
      "Epoch 3/10\n",
      "1500/1500 [==============================] - 10s 7ms/step - loss: 0.0602 - accuracy: 0.9818 - val_loss: 0.0869 - val_accuracy: 0.9736\n",
      "Epoch 4/10\n",
      "1500/1500 [==============================] - 11s 7ms/step - loss: 0.0419 - accuracy: 0.9868 - val_loss: 0.0856 - val_accuracy: 0.9757\n",
      "Epoch 5/10\n",
      "1500/1500 [==============================] - 11s 7ms/step - loss: 0.0308 - accuracy: 0.9900 - val_loss: 0.0868 - val_accuracy: 0.9758\n",
      "Epoch 6/10\n",
      "1500/1500 [==============================] - 10s 7ms/step - loss: 0.0220 - accuracy: 0.9931 - val_loss: 0.0939 - val_accuracy: 0.9763\n",
      "Epoch 7/10\n",
      "1500/1500 [==============================] - 11s 7ms/step - loss: 0.0166 - accuracy: 0.9950 - val_loss: 0.0904 - val_accuracy: 0.9755\n",
      "Epoch 8/10\n",
      "1500/1500 [==============================] - 12s 8ms/step - loss: 0.0143 - accuracy: 0.9954 - val_loss: 0.0973 - val_accuracy: 0.9782\n",
      "Epoch 9/10\n",
      "1500/1500 [==============================] - 11s 7ms/step - loss: 0.0131 - accuracy: 0.9960 - val_loss: 0.0935 - val_accuracy: 0.9784\n",
      "Epoch 10/10\n",
      "1500/1500 [==============================] - 10s 7ms/step - loss: 0.0090 - accuracy: 0.9969 - val_loss: 0.1092 - val_accuracy: 0.9753\n"
     ]
    }
   ],
   "source": [
    "from keras.layers import Dense\n",
    "from keras.layers import Flatten\n",
    "model = keras.models.Sequential()\n",
    "model.add(Flatten(input_shape=(28,28))) # 784\n",
    "model.add(Dense(392,activation='relu'))\n",
    "model.add(Dense(10,activation='softmax'))\n",
    "\n",
    "model.compile(optimizer='adam',loss='sparse_categorical_crossentropy',metrics=['accuracy'])\n",
    "history = model.fit(x_train,y_train,epochs=10,validation_split=0.2)"
   ]
  },
  {
   "cell_type": "code",
   "execution_count": 10,
   "metadata": {},
   "outputs": [
    {
     "name": "stdout",
     "output_type": "stream",
     "text": [
      "Model: \"sequential\"\n",
      "_________________________________________________________________\n",
      " Layer (type)                Output Shape              Param #   \n",
      "=================================================================\n",
      " flatten (Flatten)           (None, 784)               0         \n",
      "                                                                 \n",
      " dense (Dense)               (None, 392)               307720    \n",
      "                                                                 \n",
      " dense_1 (Dense)             (None, 10)                3930      \n",
      "                                                                 \n",
      "=================================================================\n",
      "Total params: 311,650\n",
      "Trainable params: 311,650\n",
      "Non-trainable params: 0\n",
      "_________________________________________________________________\n"
     ]
    }
   ],
   "source": [
    "model.summary()"
   ]
  },
  {
   "cell_type": "code",
   "execution_count": 11,
   "metadata": {},
   "outputs": [
    {
     "data": {
      "text/plain": [
       "[<matplotlib.lines.Line2D at 0x1d0630f4c40>]"
      ]
     },
     "execution_count": 11,
     "metadata": {},
     "output_type": "execute_result"
    },
    {
     "data": {
      "image/png": "[encoded data removed]",
      "text/plain": [
       "<Figure size 432x288 with 1 Axes>"
      ]
     },
     "metadata": {
      "needs_background": "light"
     },
     "output_type": "display_data"
    }
   ],
   "source": [
    "import matplotlib.pyplot as plt\n",
    "plt.plot(history.history['loss'])\n",
    "plt.plot(history.history['val_loss'])"
   ]
  },
  {
   "cell_type": "code",
   "execution_count": 12,
   "metadata": {},
   "outputs": [
    {
     "data": {
      "text/plain": [
       "[<matplotlib.lines.Line2D at 0x1d063155b50>]"
      ]
     },
     "execution_count": 12,
     "metadata": {},
     "output_type": "execute_result"
    },
    {
     "data": {
      "image/png": "[encoded data removed]",
      "text/plain": [
       "<Figure size 432x288 with 1 Axes>"
      ]
     },
     "metadata": {
      "needs_background": "light"
     },
     "output_type": "display_data"
    }
   ],
   "source": [
    "plt.plot(history.history['accuracy'])\n",
    "plt.plot(history.history['val_accuracy'])"
   ]
  },
  {
   "cell_type": "code",
   "execution_count": 14,
   "metadata": {},
   "outputs": [
    {
     "name": "stdout",
     "output_type": "stream",
     "text": [
      "1/1 [==============================] - 0s 191ms/step\n"
     ]
    },
    {
     "data": {
      "image/png": "[encoded data removed]",
      "text/plain": [
       "<Figure size 432x288 with 1 Axes>"
      ]
     },
     "metadata": {
      "needs_background": "light"
     },
     "output_type": "display_data"
    }
   ],
   "source": [
    "from tensorflow.keras.preprocessing import image\n",
    "\n",
    "img = image.load_img(path=\"8.png\", color_mode= 'grayscale', target_size=(28, 28))\n",
    "img = image.img_to_array(img)\n",
    "plt.imshow(image.array_to_img(img), cmap=\"gray\")\n",
    "img = img.astype('float')/255\n",
    "test_img = img.reshape((1, 28, 28, 1))\n",
    "#img_class = model.predict_classes(test_img)\n",
    "img_class = np.argmax(model.predict(test_img), axis = 1)\n",
    "prediction = img_class[0]"
   ]
  },
  {
   "cell_type": "code",
   "execution_count": 15,
   "metadata": {},
   "outputs": [
    {
     "data": {
      "text/plain": [
       "8"
      ]
     },
     "execution_count": 15,
     "metadata": {},
     "output_type": "execute_result"
    }
   ],
   "source": [
    "prediction"
   ]
  },
  {
   "cell_type": "code",
   "execution_count": 16,
   "metadata": {},
   "outputs": [
    {
     "name": "stdout",
     "output_type": "stream",
     "text": [
      "313/313 [==============================] - 1s 3ms/step\n"
     ]
    },
    {
     "data": {
      "text/plain": [
       "0.9778"
      ]
     },
     "execution_count": 16,
     "metadata": {},
     "output_type": "execute_result"
    }
   ],
   "source": [
    "from sklearn.metrics import accuracy_score,confusion_matrix,classification_report\n",
    "\n",
    "y_pred = model.predict(x_test)\n",
    "y_pred = np.argmax(y_pred,axis=1)\n",
    "accuracy_score(y_pred,y_test)"
   ]
  },
  {
   "cell_type": "code",
   "execution_count": 14,
   "metadata": {},
   "outputs": [
    {
     "data": {
      "text/plain": [
       "array([[ 968,    0,    5,    0,    1,    2,    3,    0,    1,    1],\n",
       "       [   1, 1130,    0,    0,    0,    0,    2,    2,    0,    2],\n",
       "       [   0,    1, 1003,    1,    1,    0,    0,    4,    4,    0],\n",
       "       [   1,    0,    2,  990,    1,    6,    0,    3,   12,    1],\n",
       "       [   1,    0,    4,    0,  958,    0,    1,    0,    3,    4],\n",
       "       [   2,    0,    0,    4,    1,  875,    3,    0,    6,    5],\n",
       "       [   4,    1,    3,    0,    5,    3,  947,    0,    3,    1],\n",
       "       [   1,    0,   12,    5,    1,    0,    2, 1015,    5,    7],\n",
       "       [   2,    3,    3,    1,    1,    2,    0,    1,  935,    0],\n",
       "       [   0,    0,    0,    9,   13,    4,    0,    3,    5,  988]],\n",
       "      dtype=int64)"
      ]
     },
     "execution_count": 14,
     "metadata": {},
     "output_type": "execute_result"
    }
   ],
   "source": [
    "confusion_matrix(y_pred,y_test)"
   ]
  },
  {
   "cell_type": "code",
   "execution_count": 15,
   "metadata": {},
   "outputs": [
    {
     "name": "stdout",
     "output_type": "stream",
     "text": [
      "              precision    recall  f1-score   support\n",
      "\n",
      "           0       0.99      0.99      0.99       981\n",
      "           1       1.00      0.99      0.99      1137\n",
      "           2       0.97      0.99      0.98      1014\n",
      "           3       0.98      0.97      0.98      1016\n",
      "           4       0.98      0.99      0.98       971\n",
      "           5       0.98      0.98      0.98       896\n",
      "           6       0.99      0.98      0.98       967\n",
      "           7       0.99      0.97      0.98      1048\n",
      "           8       0.96      0.99      0.97       948\n",
      "           9       0.98      0.97      0.97      1022\n",
      "\n",
      "    accuracy                           0.98     10000\n",
      "   macro avg       0.98      0.98      0.98     10000\n",
      "weighted avg       0.98      0.98      0.98     10000\n",
      "\n"
     ]
    }
   ],
   "source": [
    "print(classification_report(y_pred,y_test))"
   ]
  },
  {
   "cell_type": "code",
   "execution_count": 16,
   "metadata": {},
   "outputs": [],
   "source": [
    "model.save(\"mnist.hdf5\")"
   ]
  },
  {
   "cell_type": "code",
   "execution_count": null,
   "metadata": {},
   "outputs": [],
   "source": []
  }
 ],
 "metadata": {
  "interpreter": {
   "hash": "63b504d217b8b0366be198d66d8512b5f82260e903e4eeb3759a93449a8d2761"
  },
  "kernelspec": {
   "display_name": "Python 3 (ipykernel)",
   "language": "python",
   "name": "python3"
  },
  "language_info": {
   "codemirror_mode": {
    "name": "ipython",
    "version": 3
   },
   "file_extension": ".py",
   "mimetype": "text/x-python",
   "name": "python",
   "nbconvert_exporter": "python",
   "pygments_lexer": "ipython3",
   "version": "3.9.12"
  }
 },
 "nbformat": 4,
 "nbformat_minor": 4
}
