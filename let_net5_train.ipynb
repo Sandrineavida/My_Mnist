{
 "cells": [
  {
   "cell_type": "code",
   "execution_count": 1,
   "id": "667a3421",
   "metadata": {},
   "outputs": [],
   "source": [
    "import keras\n",
    "from keras import Sequential\n",
    "from keras.datasets import mnist\n",
    "from keras.layers import Conv2D, MaxPooling2D, Dropout, Flatten, Dense\n",
    "import matplotlib.pyplot as plt\n"
   ]
  },
  {
   "cell_type": "code",
   "execution_count": 2,
   "id": "2f7e83dd",
   "metadata": {},
   "outputs": [],
   "source": [
    "# 一些参数\n",
    "batch_size = 128\n",
    "epochs = 20\n",
    "num_classes = 10\n",
    "img_rows, img_cols = 28, 28\n",
    "input_shape = (img_rows, img_cols, 1)   # 输入数据形状"
   ]
  },
  {
   "cell_type": "code",
   "execution_count": 3,
   "id": "6ca22b9e",
   "metadata": {},
   "outputs": [],
   "source": [
    "# 获取数据\n",
    "(x_train, y_train), (x_test, y_test) = mnist.load_data()\n",
    "\n",
    "# 归一化\n",
    "x_train = x_train.astype('float32') / 255.0\n",
    "x_test = x_test.astype('float32') / 255.0\n",
    "\n",
    "# 改变数据形状，格式为(n_samples, rows, cols, channels)\n",
    "x_train = x_train.reshape(x_train.shape[0], img_rows, img_cols, 1)\n",
    "x_test = x_test.reshape(x_test.shape[0], img_rows, img_cols, 1)"
   ]
  },
  {
   "cell_type": "code",
   "execution_count": 4,
   "id": "fbe5979d",
   "metadata": {},
   "outputs": [
    {
     "name": "stdout",
     "output_type": "stream",
     "text": [
      "60000 train samples\n",
      "10000 test samples\n"
     ]
    }
   ],
   "source": [
    "# 控制台打印输出样本数量信息\n",
    "print(x_train.shape[0], 'train samples')\n",
    "print(x_test.shape[0], 'test samples')\n",
    "\n",
    "# 样本标签转化为one-hot编码格式\n",
    "y_train = keras.utils.to_categorical(y_train, num_classes)\n",
    "y_test = keras.utils.to_categorical(y_test, num_classes)"
   ]
  },
  {
   "cell_type": "code",
   "execution_count": 5,
   "id": "534059fa",
   "metadata": {},
   "outputs": [
    {
     "name": "stdout",
     "output_type": "stream",
     "text": [
      "Model: \"sequential\"\n",
      "_________________________________________________________________\n",
      " Layer (type)                Output Shape              Param #   \n",
      "=================================================================\n",
      " conv2d (Conv2D)             (None, 24, 24, 6)         156       \n",
      "                                                                 \n",
      " max_pooling2d (MaxPooling2D  (None, 12, 12, 6)        0         \n",
      " )                                                               \n",
      "                                                                 \n",
      " conv2d_1 (Conv2D)           (None, 8, 8, 16)          2416      \n",
      "                                                                 \n",
      " max_pooling2d_1 (MaxPooling  (None, 4, 4, 16)         0         \n",
      " 2D)                                                             \n",
      "                                                                 \n",
      " flatten (Flatten)           (None, 256)               0         \n",
      "                                                                 \n",
      " dense (Dense)               (None, 120)               30840     \n",
      "                                                                 \n",
      " dense_1 (Dense)             (None, 84)                10164     \n",
      "                                                                 \n",
      " dense_2 (Dense)             (None, 10)                850       \n",
      "                                                                 \n",
      "=================================================================\n",
      "Total params: 44,426\n",
      "Trainable params: 44,426\n",
      "Non-trainable params: 0\n",
      "_________________________________________________________________\n"
     ]
    }
   ],
   "source": [
    "# 创建CNN模型\n",
    "model = Sequential()\n",
    "model.add(Conv2D(6, kernel_size=(5, 5), activation='relu', input_shape=(28, 28, 1)))\n",
    "\n",
    "# 这一层的输入为第一层的输出，是一个28*28*6的节点矩阵。\n",
    "# 本层采用的过滤器大小为2*2，长和宽的步长均为2，所以本层的输出矩阵大小为14*14*6。\n",
    "model.add(MaxPooling2D(pool_size=(2, 2)))\n",
    "\n",
    "# 本层的输入矩阵大小为14*14*6，使用的过滤器大小为5*5，深度为16.本层不使用全0填充，步长为1。\n",
    "# 本层的输出矩阵大小为10*10*16。本层有5*5*6*16+16=2416个参数\n",
    "model.add(Conv2D(16, kernel_size=(5, 5), activation='relu'))\n",
    "\n",
    "# 本层的输入矩阵大小10*10*16。本层采用的过滤器大小为2*2，长和宽的步长均为2，所以本层的输出矩阵大小为5*5*16。\n",
    "model.add(MaxPooling2D(pool_size=(2, 2)))\n",
    "\n",
    "# 本层的输入矩阵大小为5*5*16，在LeNet-5论文中将这一层称为卷积层，但是因为过滤器的大小就是5*5，#\n",
    "# 所以和全连接层没有区别。如果将5*5*16矩阵中的节点拉成一个向量，那么这一层和全连接层就一样了。\n",
    "# 本层的输出节点个数为120，总共有5*5*16*120+120=48120个参数。\n",
    "model.add(Flatten())\n",
    "model.add(Dense(120, activation='relu'))\n",
    "\n",
    "# 本层的输入节点个数为120个，输出节点个数为84个，总共参数为120*84+84=10164个 (w + b)\n",
    "model.add(Dense(84, activation='relu'))\n",
    "\n",
    "# 本层的输入节点个数为84个，输出节点个数为10个，总共参数为84*10+10=850\n",
    "model.add(Dense(10, activation='softmax'))\n",
    "model.summary()     # 在控制台输出模型参数信息\n",
    "model.compile(loss=keras.metrics.categorical_crossentropy, optimizer=keras.optimizers.Adam(), metrics=['accuracy'])\n"
   ]
  },
  {
   "cell_type": "code",
   "execution_count": 6,
   "id": "2ac4ca49",
   "metadata": {},
   "outputs": [
    {
     "name": "stdout",
     "output_type": "stream",
     "text": [
      "Epoch 1/20\n",
      "469/469 [==============================] - 12s 23ms/step - loss: 0.3269 - accuracy: 0.9020 - val_loss: 0.1009 - val_accuracy: 0.9688\n",
      "Epoch 2/20\n",
      "469/469 [==============================] - 11s 23ms/step - loss: 0.1017 - accuracy: 0.9689 - val_loss: 0.0732 - val_accuracy: 0.9756\n",
      "Epoch 3/20\n",
      "469/469 [==============================] - 11s 23ms/step - loss: 0.0729 - accuracy: 0.9772 - val_loss: 0.0598 - val_accuracy: 0.9806\n",
      "Epoch 4/20\n",
      "469/469 [==============================] - 10s 22ms/step - loss: 0.0591 - accuracy: 0.9811 - val_loss: 0.0546 - val_accuracy: 0.9830\n",
      "Epoch 5/20\n",
      "469/469 [==============================] - 11s 23ms/step - loss: 0.0488 - accuracy: 0.9839 - val_loss: 0.0519 - val_accuracy: 0.9828\n",
      "Epoch 6/20\n",
      "469/469 [==============================] - 11s 23ms/step - loss: 0.0408 - accuracy: 0.9873 - val_loss: 0.0424 - val_accuracy: 0.9855\n",
      "Epoch 7/20\n",
      "469/469 [==============================] - 11s 23ms/step - loss: 0.0355 - accuracy: 0.9883 - val_loss: 0.0427 - val_accuracy: 0.9854\n",
      "Epoch 8/20\n",
      "469/469 [==============================] - 11s 23ms/step - loss: 0.0305 - accuracy: 0.9903 - val_loss: 0.0380 - val_accuracy: 0.9866\n",
      "Epoch 9/20\n",
      "469/469 [==============================] - 11s 24ms/step - loss: 0.0275 - accuracy: 0.9909 - val_loss: 0.0424 - val_accuracy: 0.9865\n",
      "Epoch 10/20\n",
      "469/469 [==============================] - 11s 23ms/step - loss: 0.0250 - accuracy: 0.9920 - val_loss: 0.0364 - val_accuracy: 0.9891\n",
      "Epoch 11/20\n",
      "469/469 [==============================] - 11s 23ms/step - loss: 0.0210 - accuracy: 0.9926 - val_loss: 0.0436 - val_accuracy: 0.9867\n",
      "Epoch 12/20\n",
      "469/469 [==============================] - 10s 22ms/step - loss: 0.0198 - accuracy: 0.9935 - val_loss: 0.0377 - val_accuracy: 0.9879\n",
      "Epoch 13/20\n",
      "469/469 [==============================] - 10s 22ms/step - loss: 0.0181 - accuracy: 0.9940 - val_loss: 0.0416 - val_accuracy: 0.9875\n",
      "Epoch 14/20\n",
      "469/469 [==============================] - 11s 25ms/step - loss: 0.0157 - accuracy: 0.9947 - val_loss: 0.0422 - val_accuracy: 0.9873\n",
      "Epoch 15/20\n",
      "469/469 [==============================] - 11s 23ms/step - loss: 0.0150 - accuracy: 0.9947 - val_loss: 0.0444 - val_accuracy: 0.9879\n",
      "Epoch 16/20\n",
      "469/469 [==============================] - 11s 23ms/step - loss: 0.0134 - accuracy: 0.9952 - val_loss: 0.0413 - val_accuracy: 0.9881\n",
      "Epoch 17/20\n",
      "469/469 [==============================] - 11s 23ms/step - loss: 0.0132 - accuracy: 0.9951 - val_loss: 0.0424 - val_accuracy: 0.9885\n",
      "Epoch 18/20\n",
      "469/469 [==============================] - 11s 23ms/step - loss: 0.0106 - accuracy: 0.9965 - val_loss: 0.0454 - val_accuracy: 0.9881\n",
      "Epoch 19/20\n",
      "469/469 [==============================] - 10s 22ms/step - loss: 0.0106 - accuracy: 0.9966 - val_loss: 0.0473 - val_accuracy: 0.9883\n",
      "Epoch 20/20\n",
      "469/469 [==============================] - 11s 23ms/step - loss: 0.0092 - accuracy: 0.9969 - val_loss: 0.0533 - val_accuracy: 0.9870\n"
     ]
    },
    {
     "data": {
      "text/plain": [
       "<keras.callbacks.History at 0x1cb4f186c10>"
      ]
     },
     "execution_count": 6,
     "metadata": {},
     "output_type": "execute_result"
    }
   ],
   "source": [
    "# 训练模型\n",
    "model.fit(x_train, y_train,\n",
    "          batch_size=batch_size,\n",
    "          epochs=epochs,\n",
    "          verbose=1,\n",
    "          validation_data=(x_test, y_test))\n"
   ]
  },
  {
   "cell_type": "code",
   "execution_count": 7,
   "id": "f6d7692a",
   "metadata": {},
   "outputs": [
    {
     "name": "stdout",
     "output_type": "stream",
     "text": [
      "1/1 [==============================] - 0s 137ms/step\n"
     ]
    }
   ],
   "source": [
    "# 预测\n",
    "n = 5   # 给出需要预测的图片数量，为了方便，只取前5张图片\n",
    "predicted_number = model.predict(x_test[:n], n)"
   ]
  },
  {
   "cell_type": "code",
   "execution_count": 8,
   "id": "0582752a",
   "metadata": {},
   "outputs": [
    {
     "data": {
      "image/png": "[encoded data removed]",
      "text/plain": [
       "<Figure size 720x216 with 5 Axes>"
      ]
     },
     "metadata": {},
     "output_type": "display_data"
    }
   ],
   "source": [
    "# 画图\n",
    "plt.figure(figsize=(10, 3))\n",
    "for i in range(n):\n",
    "    plt.subplot(1, n, i + 1)\n",
    "    t = x_test[i].reshape(28, 28)   # 向量需要reshape为矩阵\n",
    "    plt.imshow(t, cmap='gray')      # 以灰度图显示\n",
    "    plt.subplots_adjust(wspace=2)   # 调整子图间的间距，挨太紧了不好看\n",
    "    # 第一个数字是真实标签，第二个数字是预测数值\n",
    "    # 如果预测正确，绿色显示，否则红色显示\n",
    "    # 预测结果是one-hot编码，需要转化为数字\n",
    "    if y_test[i].argmax() == predicted_number[i].argmax():\n",
    "        plt.title('%d,%d' % (y_test[i].argmax(), predicted_number[i].argmax()), color='green')\n",
    "    else:\n",
    "        plt.title('%d,%d' % (y_test[i].argmax(), predicted_number[i].argmax()), color='red')\n",
    "    plt.xticks([])  # 取消x轴刻度\n",
    "    plt.yticks([])\n",
    "plt.show()"
   ]
  },
  {
   "cell_type": "code",
   "execution_count": 9,
   "id": "5932c4f7",
   "metadata": {},
   "outputs": [],
   "source": [
    "model.save(\"let5_mnist.hdf5\")"
   ]
  },
  {
   "cell_type": "code",
   "execution_count": null,
   "id": "c2c89da1",
   "metadata": {},
   "outputs": [],
   "source": []
  }
 ],
 "metadata": {
  "kernelspec": {
   "display_name": "Python 3 (ipykernel)",
   "language": "python",
   "name": "python3"
  },
  "language_info": {
   "codemirror_mode": {
    "name": "ipython",
    "version": 3
   },
   "file_extension": ".py",
   "mimetype": "text/x-python",
   "name": "python",
   "nbconvert_exporter": "python",
   "pygments_lexer": "ipython3",
   "version": "3.9.12"
  }
 },
 "nbformat": 4,
 "nbformat_minor": 5
}
